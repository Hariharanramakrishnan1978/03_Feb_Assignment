{
 "cells": [
  {
   "cell_type": "markdown",
   "id": "d9eaa303-118a-4ecf-bc72-fee11927cd4e",
   "metadata": {},
   "source": [
    "Q1. Which keyword is used to create a function? Create a function to return a list of odd numbers in the range of 1 to 25."
   ]
  },
  {
   "cell_type": "markdown",
   "id": "485bfcc3-4a8d-421c-bfba-dea7a577e0f8",
   "metadata": {},
   "source": [
    "Ans: \n",
    "\n",
    "def is the keyword used to create a function"
   ]
  },
  {
   "cell_type": "code",
   "execution_count": 2,
   "id": "5149b388-a0d1-4dd6-b546-3cc78ec5bc0c",
   "metadata": {},
   "outputs": [
    {
     "name": "stdout",
     "output_type": "stream",
     "text": [
      "[1, 3, 5, 7, 9, 11, 13, 15, 17, 19, 21, 23]\n"
     ]
    }
   ],
   "source": [
    "def func_oddnumbers():\n",
    "    l=[]\n",
    "    for i in range(1,25):\n",
    "        if i%2!=0:\n",
    "            l.append(i)\n",
    "    return l\n",
    "\n",
    "x=func_oddnumbers()\n",
    "print(x)"
   ]
  },
  {
   "cell_type": "markdown",
   "id": "9806f8e4-9069-479c-8b44-b26c088c841f",
   "metadata": {},
   "source": [
    "Q2. Why *args and **kwargs is used in some functions? Create a function each for *args and **kwargs to demonstrate their use."
   ]
  },
  {
   "cell_type": "markdown",
   "id": "79483af2-458b-4c2c-ae6b-5c779cb4ba5c",
   "metadata": {},
   "source": [
    "Ans:\n",
    "\n",
    "Normally we define a function with some input parameters and when we call that function, if we do not pass the required number of parameters python will throw error.\n",
    "\n",
    "There are some instance where we don’t know how many parameters we will be passing while the function is called and in such cases *args and **kwargs are useful\n",
    "\n",
    "*args -> When we use this, we tell that function can take from 0 to ‘N’ number of parameters\n",
    "\n",
    "**kwargs -> When we use this, we tell that to pass through keyword arguments. Output will be like dictionary item (Key and value pair combination\n",
    "\n",
    "Example)"
   ]
  },
  {
   "cell_type": "code",
   "execution_count": 3,
   "id": "a00fd73a-f97d-44d9-9df9-0982400c594c",
   "metadata": {},
   "outputs": [
    {
     "name": "stdout",
     "output_type": "stream",
     "text": [
      "('St Peter School', 'Cathedral school', 'Xavier School', 'Vijaya bhaskar school', 'Kanchi school', 'Vallabha school')\n",
      "('St Peter School',)\n"
     ]
    }
   ],
   "source": [
    "def func_nargument(*schools):\n",
    "\n",
    "    return schools\n",
    "\n",
    "\n",
    "x=func_nargument(\"St Peter School\",\"Cathedral school\",\"Xavier School\",\"Vijaya bhaskar school\",\"Kanchi school\",\"Vallabha school\")\n",
    "print (x)\n",
    "y=func_nargument(\"St Peter School\")\n",
    "print (y)"
   ]
  },
  {
   "cell_type": "code",
   "execution_count": 4,
   "id": "cdedd3f0-580c-4c4e-9bce-c0fa0659122f",
   "metadata": {},
   "outputs": [
    {
     "name": "stdout",
     "output_type": "stream",
     "text": [
      "first == Veera School\n",
      "second == Kumar School\n",
      "third == Lakshman school\n"
     ]
    }
   ],
   "source": [
    "def func_kwargument(**topschools):\n",
    "    for key, value in topschools.items():\n",
    "        print(\"%s == %s\" % (key, value))\n",
    "\n",
    "\n",
    "schools={\"first\":\"Veera School\", \"second\":\"Kumar School\",\"third\":\"Lakshman school\"}\n",
    "func_kwargument(**schools)"
   ]
  },
  {
   "cell_type": "markdown",
   "id": "a356093f-7cfe-478d-ab77-f1f514b47ffb",
   "metadata": {},
   "source": [
    "Q3.  What is an iterator in python? Name the method used to initialise the iterator object and the method used for iteration. Use these methods to print the first five elements of the given list [2, 4, 6, 8, 10, 12, 14, 16, 18, 20]."
   ]
  },
  {
   "cell_type": "markdown",
   "id": "70ae13da-6be2-48ee-b92d-a63214ed4859",
   "metadata": {},
   "source": [
    "Ans:\n",
    "\n",
    "An iterator is an object that contains countable number of values. It can be used to traverse through all the values\n",
    "\n",
    "It is initialized using iter() method. Next() method is used for iteration"
   ]
  },
  {
   "cell_type": "code",
   "execution_count": 5,
   "id": "ed4577a8-d0ff-4767-8b65-408cba0d76bb",
   "metadata": {},
   "outputs": [
    {
     "name": "stdout",
     "output_type": "stream",
     "text": [
      "2\n",
      "4\n",
      "6\n",
      "8\n",
      "10\n"
     ]
    }
   ],
   "source": [
    "iterlist=[2, 4, 6, 8, 10, 12, 14, 16, 18, 20]\n",
    "iterator = iter(iterlist)\n",
    "for i in range(1,6):\n",
    "    print(next(iterator))"
   ]
  },
  {
   "cell_type": "markdown",
   "id": "f2d6dbbb-e432-4058-ad3b-10f213e837f1",
   "metadata": {},
   "source": [
    "Q4.  What is a generator function in python? Why yield keyword is used? Give an example of a generator function."
   ]
  },
  {
   "cell_type": "markdown",
   "id": "3215aaf6-cdbd-4c89-8c6a-eddf5f5a41d6",
   "metadata": {},
   "source": [
    "Ans:\n",
    "\n",
    "In Python, a generator is a function that returns an iterator that produces a sequence of values when iterated over. Generators are useful when we want to produce a large sequence of values, but we don't want to store all of them in memory at once.\n",
    "\n",
    "The Yield keyword in Python is similar to a return statement used for returning values or objects in Python. However, there is a slight difference. The yield statement returns a generator object to the one who calls the function which contains yield, instead of simply returning a value"
   ]
  },
  {
   "cell_type": "code",
   "execution_count": 6,
   "id": "55674642-adc7-4636-8767-9b67d9904752",
   "metadata": {},
   "outputs": [
    {
     "name": "stdout",
     "output_type": "stream",
     "text": [
      "1\n",
      "2\n",
      "4\n",
      "8\n",
      "16\n"
     ]
    }
   ],
   "source": [
    "def PowTwoGen(max=0):\n",
    "    n = 0\n",
    "    while n < max:\n",
    "        yield 2 ** n\n",
    "        n += 1\n",
    "\n",
    "ret=PowTwoGen(5)\n",
    "for i in ret:\n",
    "    print(i)"
   ]
  },
  {
   "cell_type": "markdown",
   "id": "be0ea23d-43de-45ef-8676-1c5b4d17ff3b",
   "metadata": {},
   "source": [
    "Q5. Create a generator function for prime numbers less than 1000. Use the next() method to print the first 20 prime numbers."
   ]
  },
  {
   "cell_type": "code",
   "execution_count": 8,
   "id": "d4aa9648-679c-44b2-acde-b58d0ab2a1cf",
   "metadata": {},
   "outputs": [
    {
     "name": "stdout",
     "output_type": "stream",
     "text": [
      "inside fun\n",
      "2\n",
      "3\n",
      "4\n",
      "5\n",
      "7\n",
      "11\n",
      "13\n",
      "17\n",
      "19\n",
      "23\n",
      "29\n",
      "31\n",
      "37\n",
      "41\n",
      "43\n",
      "47\n",
      "53\n",
      "59\n",
      "61\n",
      "67\n"
     ]
    }
   ],
   "source": [
    "def gen_primes(maxval):\n",
    "    print(\"inside fun\")\n",
    "    i = 2\n",
    "    while i < maxval:\n",
    "        prime = True\n",
    "        for j in range(2, int(i / 2)):\n",
    "            if (i % j == 0):\n",
    "                prime = False\n",
    "                break\n",
    "        if prime == True:\n",
    "            yield i\n",
    "        i = i + 1\n",
    "\n",
    "\n",
    "iterval=gen_primes(1000)\n",
    "for i in range(1,21):\n",
    "    print(next(iterval))"
   ]
  },
  {
   "cell_type": "code",
   "execution_count": null,
   "id": "90cc4312-b9d6-4150-9beb-1f74e7d70dba",
   "metadata": {},
   "outputs": [],
   "source": []
  }
 ],
 "metadata": {
  "kernelspec": {
   "display_name": "Python 3 (ipykernel)",
   "language": "python",
   "name": "python3"
  },
  "language_info": {
   "codemirror_mode": {
    "name": "ipython",
    "version": 3
   },
   "file_extension": ".py",
   "mimetype": "text/x-python",
   "name": "python",
   "nbconvert_exporter": "python",
   "pygments_lexer": "ipython3",
   "version": "3.10.8"
  }
 },
 "nbformat": 4,
 "nbformat_minor": 5
}
